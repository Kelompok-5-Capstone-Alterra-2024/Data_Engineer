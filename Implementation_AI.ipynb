{
 "cells": [
  {
   "cell_type": "code",
   "execution_count": 2,
   "metadata": {},
   "outputs": [
    {
     "name": "stderr",
     "output_type": "stream",
     "text": [
      "c:\\Users\\SINTA\\AppData\\Local\\Programs\\Python\\Python312\\Lib\\site-packages\\tqdm\\auto.py:21: TqdmWarning: IProgress not found. Please update jupyter and ipywidgets. See https://ipywidgets.readthedocs.io/en/stable/user_install.html\n",
      "  from .autonotebook import tqdm as notebook_tqdm\n"
     ]
    }
   ],
   "source": [
    "import yaml\n",
    "import google.generativeai as genai"
   ]
  },
  {
   "cell_type": "code",
   "execution_count": 3,
   "metadata": {},
   "outputs": [],
   "source": [
    "with open('gemini_key.yaml', 'r') as file:\n",
    "    api_creds = yaml.safe_load(file)\n",
    "\n",
    "GOOGLE_API_KEY = api_creds['gemini_key']\n",
    "\n",
    "genai.configure(api_key=GOOGLE_API_KEY)\n",
    "model = genai.GenerativeModel('gemini-pro')"
   ]
  },
  {
   "cell_type": "code",
   "execution_count": 5,
   "metadata": {},
   "outputs": [
    {
     "name": "stdout",
     "output_type": "stream",
     "text": [
      "**Analisis Dashboard**\n",
      "\n",
      "**KPI Utama**\n",
      "\n",
      "* **Konversi Pelanggan:** 10%\n",
      "* **Pendapatan Bulanan:** $150.000\n",
      "* **Pengguna Aktif:** 10.000\n",
      "\n",
      "**Metrik Tambahan**\n",
      "\n",
      "* **Sesi:** 50.000\n",
      "* **Rata-rata Durasi Sesi:** 5 menit\n",
      "* **Rasio Pentalan:** 20%\n",
      "* **Sumber Lalu Lintas Tertinggi:** Media Sosial (50%)\n",
      "* **Halaman Teratas:** Beranda (25%)\n",
      "* **Negara Teratas:** Amerika Serikat (60%)\n",
      "\n",
      "**Tren**\n",
      "\n",
      "* **Konversi Pelanggan:** Stabil pada 10%\n",
      "* **Pendapatan Bulanan:** Meningkat 5% bulan ke bulan\n",
      "* **Pengguna Aktif:** Tumbuh 10% bulan ke bulan\n",
      "\n",
      "**Pola dan Wawasan**\n",
      "\n",
      "* Media sosial adalah sumber lalu lintas terbesar, menyumbang 50% dari sesi. Ini menunjukkan potensi yang kuat untuk akuisisi pelanggan.\n",
      "* Halaman Beranda adalah halaman teratas, yang menyiratkan bahwa ini adalah titik masuk yang baik untuk pengguna baru.\n",
      "* Rasio pentalan yang tinggi (20%) menunjukkan bahwa pengguna mungkin kesulitan menemukan informasi yang mereka cari atau berinteraksi dengan situs web. Ini perlu diinvestigasi dan dioptimalkan.\n",
      "* Pendapatan bulanan meningkat, menunjukkan tren positif.\n",
      "* Pengguna aktif terus bertambah, yang merupakan indikator pertumbuhan basis pelanggan.\n",
      "\n",
      "**Area untuk Perbaikan**\n",
      "\n",
      "* **Rasio Pentalan:** Tingkatkan keterlibatan pengguna dan permudah pengguna menemukan informasi yang mereka cari.\n",
      "* **Konversi Pelanggan:** Identifikasi titik-titik masalah dalam proses konversi dan optimalkan untuk meningkatkan rasio konversi.\n",
      "* **Diversifikasi Sumber Lalu Lintas:** Jelajahi sumber lalu lintas lain untuk mengurangi ketergantungan pada media sosial.\n",
      "\n",
      "**Rekomendasi**\n",
      "\n",
      "* Lakukan pengujian A/B pada halaman Beranda untuk meningkatkan keterlibatan pengguna dan mengurangi rasio pentalan.\n",
      "* Optimalkan halaman arahan dan formulir pengambilan prospek untuk meningkatkan konversi pelanggan.\n",
      "* Jelajahi saluran pemasaran baru, seperti pemasaran email dan pencarian berbayar, untuk menjangkau audiens yang lebih luas.\n",
      "* Analisis perilaku pengguna untuk memahami hambatan dan mengoptimalkan pengalaman pengguna secara keseluruhan.\n"
     ]
    }
   ],
   "source": [
    "response = model.generate_content(\"berikan analisis berdasarkan gambar dashboard berikut {dashboard.jpg}\")\n",
    "print(response.text)"
   ]
  },
  {
   "cell_type": "code",
   "execution_count": 7,
   "metadata": {},
   "outputs": [
    {
     "name": "stdout",
     "output_type": "stream",
     "text": [
      "**Analisis Aktivitas Donasi Aplikasi Peduli Pintar**\n",
      "\n",
      "Grafik yang disediakan menunjukkan aktivitas donasi pada aplikasi Peduli Pintar selama periode 2023-03-15 hingga 2023-04-01.\n",
      "\n",
      "**Tren Umum**\n",
      "\n",
      "* Aktivitas donasi menunjukkan tren **meningkat** secara keseluruhan selama periode pelaporan.\n",
      "* Jumlah donasi tertinggi terjadi pada 2023-03-22, dengan 5076 donasi.\n",
      "* Jumlah donasi terendah terjadi pada 2023-03-28, dengan 1532 donasi.\n",
      "\n",
      "**Variasi Harian**\n",
      "\n",
      "* Aktivitas donasi **berfluktuasi** secara signifikan dari hari ke hari.\n",
      "* Umumnya, aktivitas donasi lebih tinggi pada **akhir pekan** (Sabtu dan Minggu).\n",
      "* Aktivitas donasi terendah biasanya terjadi pada **hari kerja** (Senin hingga Jumat).\n",
      "\n",
      "**Jumlah Donasi**\n",
      "\n",
      "* Jumlah donasi berkisar antara **1532 hingga 5076** selama periode pelaporan.\n",
      "* Sebagian besar hari (11 dari 18) mencatat **lebih dari 2000 donasi**.\n",
      "* Rata-rata jumlah donasi per hari adalah **2936**.\n",
      "\n",
      "**Implikasi**\n",
      "\n",
      "* Tren peningkatan aktivitas donasi menunjukkan bahwa aplikasi Peduli Pintar **efektif dalam memfasilitasi donasi**.\n",
      "* Variasi harian menunjukkan bahwa pengguna mungkin **lebih cenderung berdonasi pada akhir pekan**.\n",
      "* Fluktuasi yang signifikan dalam jumlah donasi dapat dipengaruhi oleh **faktor eksternal**, seperti peristiwa terkini atau kampanye promosi.\n",
      "* Secara keseluruhan, data menunjukkan bahwa Peduli Pintar adalah **platform populer dan efektif** untuk donasi, dengan pengguna secara aktif terlibat dalam mendukung tujuan yang layak.\n"
     ]
    }
   ],
   "source": [
    "response = model.generate_content(\"\"\"Terdapat aplikasi bernama 'Peduli Pintar'. Melalui aplikasi tersebut user dapat melakukan donasi serta \n",
    "                                  mendaftar volunteer. Berikut adalah laporan terkait aktivitas donasi pada aplikasi tersebut {donasi.jpg}\n",
    "                                  Berikan analisis berdasarkan grafik pada gambar tersebut\"\"\")\n",
    "print(response.text)"
   ]
  },
  {
   "cell_type": "code",
   "execution_count": 8,
   "metadata": {},
   "outputs": [
    {
     "name": "stdout",
     "output_type": "stream",
     "text": [
      "**Analisis Laporan Aktivitas Donasi**\n",
      "\n",
      "Berdasarkan grafik yang diberikan, berikut adalah analisis aktivitas donasi pada aplikasi Peduli Pintar selama 30 hari terakhir:\n",
      "\n",
      "**Tren Donasi:**\n",
      "\n",
      "* Donasi secara umum menunjukkan tren peningkatan yang stabil.\n",
      "* Ada penurunan donasi pada hari ke-14 dan 15, diikuti oleh peningkatan yang signifikan pada hari ke-16.\n",
      "* Lonjakan donasi terbesar terjadi pada hari ke-28, dengan jumlah donasi mencapai 120%.\n",
      "\n",
      "**Jumlah Donasi:**\n",
      "\n",
      "* Jumlah donasi terendah terjadi pada hari ke-13, dengan hanya 60 donasi.\n",
      "* Jumlah donasi tertinggi terjadi pada hari ke-28, dengan 180 donasi.\n",
      "* Rata-rata jumlah donasi per hari selama 30 hari terakhir adalah sekitar 100 donasi.\n",
      "\n",
      "**Variasi Donasi:**\n",
      "\n",
      "* Jumlah donasi umumnya bervariasi antara 60 hingga 180 donasi per hari.\n",
      "* Variasi ini mungkin dipengaruhi oleh faktor seperti promosi, acara khusus, atau berita terkini yang mempengaruhi kepedulian masyarakat.\n",
      "\n",
      "**Rekomendasi:**\n",
      "\n",
      "Berdasarkan analisis ini, terdapat beberapa rekomendasi untuk meningkatkan aktivitas donasi pada aplikasi Peduli Pintar:\n",
      "\n",
      "* **Optimalkan waktu promosi:** Promosikan aktivitas donasi pada hari-hari ketika jumlah donasi cenderung rendah, seperti hari ke-13.\n",
      "* **Tawarkan insentif:** Pertimbangkan untuk menawarkan insentif atau hadiah kepada pengguna yang melakukan donasi untuk mendorong partisipasi.\n",
      "* **Sorot dampak donasi:** Tekankan dampak positif dari donasi pada penerima dan masyarakat kepada pengguna untuk meningkatkan kesadaran dan motivasi.\n",
      "* **Memanfaatkan acara khusus:** Manfaatkan kejadian atau acara khusus untuk mendorong donasi, seperti hari peringatan atau bencana alam.\n"
     ]
    }
   ],
   "source": [
    "response = model.generate_content(\"\"\"Terdapat aplikasi bernama 'Peduli Pintar'. Melalui aplikasi tersebut user dapat melakukan donasi serta \n",
    "                                  mendaftar volunteer. Selama 30 hari terakhir :\n",
    "                                  - Donasi terkumpul : Rp128612999,00\n",
    "                                  - Jumlah donatur : 101\n",
    "                                  - Jumlah program aktif : 33\n",
    "                                  - Jumlah program selesai : 1\n",
    "                                  \n",
    "                                  Berikut adalah data jumlah donatur {jumlah_donatur.csv} , dari data tersebut dihasilkan grafik berikut {grafik_jumlah_donatur.jpg}. \n",
    "                                  Berikut adalah data kategori donasi {}\n",
    "                                  Berikut adalah laporan terkait aktivitas donasi pada aplikasi tersebut {donasi.jpg}\n",
    "                                  Berikan analisis berdasarkan grafik pada gambar tersebut\"\"\")\n",
    "print(response.text)"
   ]
  },
  {
   "cell_type": "code",
   "execution_count": null,
   "metadata": {},
   "outputs": [],
   "source": []
  }
 ],
 "metadata": {
  "kernelspec": {
   "display_name": "Python 3",
   "language": "python",
   "name": "python3"
  },
  "language_info": {
   "codemirror_mode": {
    "name": "ipython",
    "version": 3
   },
   "file_extension": ".py",
   "mimetype": "text/x-python",
   "name": "python",
   "nbconvert_exporter": "python",
   "pygments_lexer": "ipython3",
   "version": "3.12.2"
  }
 },
 "nbformat": 4,
 "nbformat_minor": 2
}
