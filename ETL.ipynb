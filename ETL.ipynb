{
 "cells": [
  {
   "cell_type": "code",
   "execution_count": 1,
   "metadata": {},
   "outputs": [],
   "source": [
    "import pandas as pd\n",
    "from IPython.display import display"
   ]
  },
  {
   "cell_type": "markdown",
   "metadata": {},
   "source": [
    "## 1. Extract Data"
   ]
  },
  {
   "cell_type": "code",
   "execution_count": 3,
   "metadata": {},
   "outputs": [],
   "source": [
    "df_admin = pd.read_csv('Data_Source(dummy)/admin.csv')\n",
    "df_applications = pd.read_csv('Data_Source(dummy)/applications.csv')\n",
    "df_article = pd.read_csv('Data_Source(dummy)/article.csv')\n",
    "df_comment = pd.read_csv('Data_Source(dummy)/comment.csv')\n",
    "df_customer_bookmark_article = pd.read_csv('Data_Source(dummy)/customer_bookmark_article.csv')\n",
    "df_customer_bookmark_fundraising = pd.read_csv('Data_Source(dummy)/customer_bookmark_fundraising.csv')\n",
    "df_customer_bookmark_volunteer = pd.read_csv('Data_Source(dummy)/customer_bookmark_volunteer.csv')\n",
    "df_customers = pd.read_csv('Data_Source(dummy)/customers.csv')\n",
    "df_donations = pd.read_csv('Data_Source(dummy)/donations.csv')\n",
    "df_fundraising_categories = pd.read_csv('Data_Source(dummy)/fundraising_categories.csv')\n",
    "df_fundraisings = pd.read_csv('Data_Source(dummy)/fundraisings.csv')\n",
    "df_likes_comment = pd.read_csv('Data_Source(dummy)/likes_comment.csv')\n",
    "df_likes_fundraising = pd.read_csv('Data_Source(dummy)/likes_fundraising.csv')\n",
    "df_organization = pd.read_csv('Data_Source(dummy)/organization.csv')\n",
    "df_testimoni_volunteer = pd.read_csv('Data_Source(dummy)/testimoni_volunteer.csv')\n",
    "df_volunteer_vacancies = pd.read_csv('Data_Source(dummy)/volunteer_vacancies.csv')\n",
    "df_wish_fundraising = pd.read_csv('Data_Source(dummy)/wish_fundraising.csv')"
   ]
  },
  {
   "cell_type": "code",
   "execution_count": null,
   "metadata": {},
   "outputs": [],
   "source": [
    "# display(df_admin)\n",
    "# display(df_customers)\n",
    "# display(df_organization)\n",
    "# display(df_fundraising_categories)\n",
    "# display(df_fundraisings)\n",
    "# display(df_volunteer_vacancies)\n",
    "# display(df_applications)"
   ]
  },
  {
   "cell_type": "markdown",
   "metadata": {},
   "source": [
    "## 2. Transform"
   ]
  }
 ],
 "metadata": {
  "kernelspec": {
   "display_name": "Python 3",
   "language": "python",
   "name": "python3"
  },
  "language_info": {
   "codemirror_mode": {
    "name": "ipython",
    "version": 3
   },
   "file_extension": ".py",
   "mimetype": "text/x-python",
   "name": "python",
   "nbconvert_exporter": "python",
   "pygments_lexer": "ipython3",
   "version": "3.12.2"
  }
 },
 "nbformat": 4,
 "nbformat_minor": 2
}
