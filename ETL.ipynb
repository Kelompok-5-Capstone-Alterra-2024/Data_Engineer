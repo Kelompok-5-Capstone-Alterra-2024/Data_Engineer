{
 "cells": [
  {
   "cell_type": "code",
   "execution_count": 1,
   "metadata": {},
   "outputs": [],
   "source": [
    "import pandas as pd\n",
    "from IPython.display import display\n",
    "import mysql.connector\n",
    "import os\n",
    "from dotenv import load_dotenv"
   ]
  },
  {
   "cell_type": "markdown",
   "metadata": {},
   "source": [
    "# Extract Data"
   ]
  },
  {
   "cell_type": "code",
   "execution_count": 2,
   "metadata": {},
   "outputs": [],
   "source": [
    "def ingestion(table):\n",
    "    load_dotenv()\n",
    "    connection = mysql.connector.connect(\n",
    "    host=os.getenv('host'),\n",
    "    user='root',\n",
    "    password=os.getenv('password'),\n",
    "    database='capstone5'\n",
    "    )\n",
    "    query = f\"SELECT * FROM {table}\"  \n",
    "    df = pd.read_sql(query, connection)\n",
    "    connection.close()\n",
    "    return df"
   ]
  },
  {
   "cell_type": "code",
   "execution_count": 4,
   "metadata": {},
   "outputs": [
    {
     "name": "stderr",
     "output_type": "stream",
     "text": [
      "C:\\Users\\SINTA\\AppData\\Local\\Temp\\ipykernel_23344\\3238963636.py:10: UserWarning: pandas only supports SQLAlchemy connectable (engine/connection) or database string URI or sqlite3 DBAPI2 connection. Other DBAPI2 objects are not tested. Please consider using SQLAlchemy.\n",
      "  df = pd.read_sql(query, connection)\n",
      "C:\\Users\\SINTA\\AppData\\Local\\Temp\\ipykernel_23344\\3238963636.py:10: UserWarning: pandas only supports SQLAlchemy connectable (engine/connection) or database string URI or sqlite3 DBAPI2 connection. Other DBAPI2 objects are not tested. Please consider using SQLAlchemy.\n",
      "  df = pd.read_sql(query, connection)\n",
      "C:\\Users\\SINTA\\AppData\\Local\\Temp\\ipykernel_23344\\3238963636.py:10: UserWarning: pandas only supports SQLAlchemy connectable (engine/connection) or database string URI or sqlite3 DBAPI2 connection. Other DBAPI2 objects are not tested. Please consider using SQLAlchemy.\n",
      "  df = pd.read_sql(query, connection)\n"
     ]
    }
   ],
   "source": [
    "df_applications = ingestion('applications')\n",
    "df_articles = ingestion('articles')\n",
    "df_comments = ingestion('comments')\n",
    "df_donations = ingestion('donations')\n",
    "df_donation_comments = ingestion('donation_comments')\n",
    "df_fundraising_categories = ingestion('fundraising_categories')\n",
    "df_fundraisings = ingestion('fundraisings')\n",
    "\n",
    "df_customers = ingestion('users')\n",
    "df_likes_comments = ingestion('likes_comments')\n",
    "df_organizations = ingestion('organizations')\n",
    "df_testimoni_volunteers = ingestion('testimoni_volunteers')\n",
    "df_bookmark_fundraising = ingestion('user_bookmark_fundraising')\n",
    "df_bookmark_volunteer = ingestion('user_bookmark_volunteer_vacancies')\n",
    "df_volunteer_vacancies = ingestion('volunteers')"
   ]
  },
  {
   "cell_type": "code",
   "execution_count": null,
   "metadata": {},
   "outputs": [],
   "source": [
    "display(df_applications)\n",
    "display(df_articles)\n",
    "display(df_comments)\n",
    "display(df_donations)\n",
    "display(df_donation_comments)\n",
    "display(df_fundraising_categories)\n",
    "display(df_fundraisings)\n",
    "display(df_customers)\n",
    "display(df_likes_comments)\n",
    "display(df_testimoni_volunteers)\n",
    "display(df_volunteer_vacancies)"
   ]
  },
  {
   "cell_type": "markdown",
   "metadata": {},
   "source": [
    "# Transform"
   ]
  },
  {
   "cell_type": "markdown",
   "metadata": {},
   "source": [
    "## Tabel Fakta"
   ]
  },
  {
   "cell_type": "markdown",
   "metadata": {},
   "source": [
    "### 1. FactDonationTransaction"
   ]
  },
  {
   "cell_type": "code",
   "execution_count": null,
   "metadata": {},
   "outputs": [],
   "source": [
    "# Buat Struktur kolom df_fact_donation_transaction\n",
    "columns = ['id', 'donation_id', 'fundraising_id', 'customer_id', 'nominal', 'goal_amount', 'fundraising_categories_id', 'organization_id', 'donation_created_at']\n",
    "df_fact_donation_transaction = pd.DataFrame(columns=columns)"
   ]
  },
  {
   "cell_type": "code",
   "execution_count": null,
   "metadata": {},
   "outputs": [],
   "source": [
    "# mengambil data yang sukses di df_donation \n",
    "df_donation_success = df_donations.loc[df_donations['status'] == 'success']\n",
    "df_donation_success = df_donation_success.reset_index(drop=True)"
   ]
  },
  {
   "cell_type": "code",
   "execution_count": null,
   "metadata": {},
   "outputs": [],
   "source": [
    "# mengisi data pada dari kolom df_donation\n",
    "df_fact_donation_transaction['id'] = range(1, len(df_donation_success) + 1)\n",
    "df_fact_donation_transaction['donation_id'] = df_donation_success['id']\n",
    "df_fact_donation_transaction['fundraising_id'] = df_donation_success['fundraisings_id']\n",
    "df_fact_donation_transaction['customer_id'] = df_donation_success['customer_id']\n",
    "df_fact_donation_transaction['nominal'] = df_donation_success['nominal']\n",
    "df_fact_donation_transaction['donation_created_at'] = df_donation_success['created_at']"
   ]
  },
  {
   "cell_type": "code",
   "execution_count": null,
   "metadata": {},
   "outputs": [],
   "source": [
    "# merge df_fundraising\n",
    "df_merge_fact_fundraising = pd.merge(df_fact_donation_transaction, df_fundraisings, left_on='fundraising_id', right_on='id', how='left')\n",
    "\n",
    "# inisialisasi data di df_fact_donation_transaction\n",
    "df_fact_donation_transaction['goal_amount'] = df_merge_fact_fundraising['goal_amount_y']\n",
    "df_fact_donation_transaction['fundraising_categories_id'] = df_merge_fact_fundraising['fundraising_categories_id_y']\n",
    "df_fact_donation_transaction['organization_id'] = df_merge_fact_fundraising['organization_id_y']\n",
    "df_fact_donation_transaction"
   ]
  },
  {
   "cell_type": "markdown",
   "metadata": {},
   "source": [
    "### 2. Fact Volunteer Applications"
   ]
  },
  {
   "cell_type": "code",
   "execution_count": null,
   "metadata": {},
   "outputs": [],
   "source": [
    "# Buat Struktur kolom df_fact_volunteer_applications\n",
    "columns = ['id', 'application_id', 'volunteer_vacancies_id', 'customer_id', 'organization_id', 'application_created_at']\n",
    "df_fact_volunteer_applications = pd.DataFrame(columns=columns)"
   ]
  },
  {
   "cell_type": "code",
   "execution_count": null,
   "metadata": {},
   "outputs": [],
   "source": [
    "# mengisi data pada dari kolom df_application\n",
    "df_fact_volunteer_applications['id'] = range(1, len(df_applications) + 1)\n",
    "df_fact_volunteer_applications['application_id'] = df_applications['id']\n",
    "df_fact_volunteer_applications['volunteer_vacancies_id'] = df_applications['vacancy_id']\n",
    "df_fact_volunteer_applications['customer_id'] = df_applications['customer_id']\n",
    "df_fact_volunteer_applications['application_created_at'] = df_applications['create_at']\n",
    "df_fact_volunteer_applications"
   ]
  },
  {
   "cell_type": "code",
   "execution_count": null,
   "metadata": {},
   "outputs": [],
   "source": [
    "# merge df_fundraising\n",
    "df_merge_fact_volunteer = pd.merge(df_fact_volunteer_applications, df_volunteer_vacancies, left_on='volunteer_vacancies_id', right_on='id', how='left')\n",
    "\n",
    "# inisialisasi data di df_fact_volunteer_applications\n",
    "df_fact_volunteer_applications['organization_id'] = df_merge_fact_volunteer['organization_id_y']\n",
    "df_fact_volunteer_applications"
   ]
  },
  {
   "cell_type": "markdown",
   "metadata": {},
   "source": [
    "### 3. Fact Volunteer Testimoni"
   ]
  },
  {
   "cell_type": "code",
   "execution_count": null,
   "metadata": {},
   "outputs": [],
   "source": [
    "# Buat Struktur kolom df_fact_volunteer_testimoni\n",
    "columns = ['id', 'customer_id', 'volunteer_vacancies_id', 'testimoni_volunteer_id', 'rating']\n",
    "df_fact_volunteer_testimoni = pd.DataFrame(columns=columns)"
   ]
  },
  {
   "cell_type": "code",
   "execution_count": null,
   "metadata": {},
   "outputs": [],
   "source": [
    "# mengisi data pada dari kolom df_application\n",
    "df_fact_volunteer_testimoni['id'] = range(1, len(df_applications) + 1)\n",
    "df_fact_volunteer_testimoni['customer_id'] = df_testimoni_volunteers['customer_id']\n",
    "df_fact_volunteer_testimoni['volunteer_vacancies_id'] = df_testimoni_volunteers['volunteer_id']\n",
    "df_fact_volunteer_testimoni['testimoni_volunteer_id'] = df_testimoni_volunteers['id']\n",
    "df_fact_volunteer_testimoni['rating'] = df_testimoni_volunteers['rating']\n",
    "df_fact_volunteer_applications"
   ]
  },
  {
   "cell_type": "markdown",
   "metadata": {},
   "source": [
    "### 4. Fact Article Popular"
   ]
  },
  {
   "cell_type": "code",
   "execution_count": null,
   "metadata": {},
   "outputs": [],
   "source": [
    "# Buat Struktur kolom df_fact_articel_popular\n",
    "columns = ['id', 'article_id', 'comment_id', 'customer_id', 'total_like', 'comment_created_at']\n",
    "df_fact_article_popular = pd.DataFrame(columns=columns)"
   ]
  },
  {
   "cell_type": "code",
   "execution_count": null,
   "metadata": {},
   "outputs": [],
   "source": [
    "# mengisi data pada dari kolom df_comment\n",
    "df_fact_article_popular['id'] = range(1, len(df_comments) + 1)\n",
    "df_fact_article_popular['article_id'] = df_comments['article_id']\n",
    "df_fact_article_popular['comment_id'] = df_comments['id']\n",
    "df_fact_article_popular['customer_id'] = df_comments['customer_id']\n",
    "df_fact_article_popular['total_like'] = df_comments['total_like']\n",
    "df_fact_article_popular['comment_created_at'] = df_comments['created_at']\n",
    "df_fact_article_popular"
   ]
  },
  {
   "cell_type": "markdown",
   "metadata": {},
   "source": [
    "### 5. Fact Bookmark Fundraising"
   ]
  },
  {
   "cell_type": "code",
   "execution_count": null,
   "metadata": {},
   "outputs": [],
   "source": [
    "df_fact_bookmark_fundraising = df_bookmark_fundraising.drop(['deleted_at', 'updated_at'], axis=1)\n",
    "df_fact_bookmark_fundraising = df_fact_bookmark_fundraising.rename(columns={'id':'bookmark_id'})\n",
    "df_fact_bookmark_fundraising['id'] = range(1, len(df_fact_bookmark_fundraising) + 1)\n",
    "df_fact_bookmark_fundraising.insert(0, 'id', df_fact_bookmark_fundraising.pop('id'))\n",
    "df_fact_bookmark_fundraising"
   ]
  },
  {
   "cell_type": "markdown",
   "metadata": {},
   "source": [
    "### 6. Fact Bookmark Volunteer Vacancies"
   ]
  },
  {
   "cell_type": "code",
   "execution_count": null,
   "metadata": {},
   "outputs": [],
   "source": [
    "df_fact_bookmark_volunteer_vacancies = df_bookmark_volunteer.drop(['deleted_at', 'updated_at'], axis=1)\n",
    "df_fact_bookmark_volunteer_vacancies = df_fact_bookmark_volunteer_vacancies.rename(columns={'id':'bookmark_id'})\n",
    "df_fact_bookmark_volunteer_vacancies['id'] = range(1, len(df_fact_bookmark_volunteer_vacancies) + 1)\n",
    "df_fact_bookmark_volunteer_vacancies.insert(0, 'id', df_fact_bookmark_volunteer_vacancies.pop('id'))\n",
    "df_fact_bookmark_volunteer_vacancies"
   ]
  },
  {
   "cell_type": "markdown",
   "metadata": {},
   "source": [
    "## Tabel Dimensi"
   ]
  },
  {
   "cell_type": "code",
   "execution_count": null,
   "metadata": {},
   "outputs": [],
   "source": [
    "dim_fundraisings = df_fundraisings.drop(['fundraising_categories_id','organization_id','updated_at'], axis=1)\n",
    "\n",
    "dim_fundraising_categories = df_fundraising_categories[['id','category_name','update_at']]\n",
    "dim_donation = df_donations.drop(['fundraisings_id', 'customer_id','updated_at'], axis=1)\n",
    "dim_organization = df_organizations\n",
    "dim_customer = df_customers\n",
    "dim_volunteer_applictaion = df_applications.drop(['customer_id','vacancy_id','update_at'], axis=1)\n",
    "dim_volunteer_vacancies = df_volunteer_vacancies.drop(['organization_id','updated_at'], axis=1)\n",
    "dim_testimoni_volunteer = df_testimoni_volunteers.drop(['customer_id','volunteer_id','updated_at'], axis=1)\n",
    "dim_article = df_articles\n",
    "dim_comment = df_comments.drop(['customer_id','article_id','updated_at'], axis=1)\n",
    "dim_bookmark_fundraising = df_bookmark_fundraising.drop(['fundraising_id','customer_id','updated_at'], axis=1)\n",
    "dim_bookmark_volunter_vacancies = df_bookmark_volunteer.drop(['volunteer_vacancies_id','customer_id','updated_at'], axis=1)\n"
   ]
  },
  {
   "cell_type": "markdown",
   "metadata": {},
   "source": [
    "# Load"
   ]
  },
  {
   "cell_type": "code",
   "execution_count": null,
   "metadata": {},
   "outputs": [],
   "source": [
    "df_fact_donation_transaction.to_csv(\"Data_Loaded/Fact/fact_donation_transaction.csv\", index=False)\n",
    "df_fact_volunteer_applications.to_csv(\"Data_Loaded/Fact/fact_volunteer_applications.csv\", index=False)\n",
    "df_fact_volunteer_testimoni.to_csv(\"Data_Loaded/Fact/fact_volunteer_testimoni.csv\", index=False)\n",
    "df_fact_article_popular.to_csv(\"Data_Loaded/Fact/fact_article_popular.csv\", index=False)\n",
    "\n",
    "\n"
   ]
  }
 ],
 "metadata": {
  "kernelspec": {
   "display_name": "Python 3",
   "language": "python",
   "name": "python3"
  },
  "language_info": {
   "codemirror_mode": {
    "name": "ipython",
    "version": 3
   },
   "file_extension": ".py",
   "mimetype": "text/x-python",
   "name": "python",
   "nbconvert_exporter": "python",
   "pygments_lexer": "ipython3",
   "version": "3.12.2"
  }
 },
 "nbformat": 4,
 "nbformat_minor": 2
}
