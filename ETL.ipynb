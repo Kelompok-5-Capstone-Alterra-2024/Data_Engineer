{
 "cells": [
  {
   "cell_type": "code",
   "execution_count": null,
   "metadata": {},
   "outputs": [],
   "source": [
    "import pandas as pd\n",
    "from IPython.display import display\n",
    "import mysql.connector\n",
    "import os\n",
    "from dotenv import load_dotenv\n",
    "import pymysql\n",
    "from sqlalchemy import create_engine\n",
    "import firebase_admin\n",
    "from firebase_admin import credentials, storage\n",
    "from datetime import datetime\n",
    "from google.cloud import bigquery\n",
    "import numpy as np"
   ]
  },
  {
   "cell_type": "code",
   "execution_count": null,
   "metadata": {},
   "outputs": [],
   "source": [
    "load_dotenv()"
   ]
  },
  {
   "cell_type": "markdown",
   "metadata": {},
   "source": [
    "# Extract Data"
   ]
  },
  {
   "cell_type": "code",
   "execution_count": null,
   "metadata": {},
   "outputs": [],
   "source": [
    "raw_data = []\n",
    "raw_data.clear()\n",
    "\n",
    "def ingestion(table):\n",
    "    load_dotenv()\n",
    "    connection = mysql.connector.connect(\n",
    "    host=os.getenv('host'),\n",
    "    user='root',\n",
    "    password=os.getenv('password'),\n",
    "    database='capstone5'\n",
    "    )\n",
    "    query = f\"SELECT * FROM {table}\"  \n",
    "    df = pd.read_sql(query, connection)\n",
    "    connection.close()\n",
    "\n",
    "    output_path = os.path.join('Data_Loaded', 'Raw_Data', f'{table}.csv')\n",
    "    os.makedirs(os.path.dirname(output_path), exist_ok=True)\n",
    "    df.to_csv(output_path, index=False)\n",
    "\n",
    "    raw_data.append(output_path)\n",
    "    return df"
   ]
  },
  {
   "cell_type": "code",
   "execution_count": null,
   "metadata": {},
   "outputs": [],
   "source": [
    "df_applications = ingestion('applications')\n",
    "df_articles = ingestion('articles')\n",
    "df_comments = ingestion('comments')\n",
    "df_donation_manual_comments = ingestion('donation_manual_comments')\n",
    "df_donations_manual = ingestion('donation_manuals')\n",
    "df_fundraising_categories = ingestion('fundraising_categories')\n",
    "df_fundraisings = ingestion('fundraisings')\n",
    "df_likes_comments = ingestion('likes_comments')\n",
    "df_organizations = ingestion('organizations')\n",
    "df_testimoni_volunteers = ingestion('testimoni_volunteers')\n",
    "df_bookmark_fundraising = ingestion('user_bookmark_fundraising')\n",
    "df_bookmark_volunteer = ingestion('user_bookmark_volunteer_vacancies')\n",
    "df_volunteer_vacancies = ingestion('volunteers')\n",
    "df_users = ingestion('users')\n",
    "ingestion(\"admins\")\n",
    "ingestion(\"like_donation_comments\")\n",
    "ingestion(\"user_bookmark_article\")"
   ]
  },
  {
   "cell_type": "code",
   "execution_count": null,
   "metadata": {},
   "outputs": [],
   "source": [
    "df_fundraisings.info()"
   ]
  },
  {
   "cell_type": "markdown",
   "metadata": {},
   "source": [
    "# Transform"
   ]
  },
  {
   "cell_type": "markdown",
   "metadata": {},
   "source": [
    "### Handle Missing Value & Duplicates"
   ]
  },
  {
   "cell_type": "code",
   "execution_count": null,
   "metadata": {},
   "outputs": [],
   "source": [
    "# Cek duplikat dan missing value\n",
    "\n",
    "def cleaning_data(df, name_df):\n",
    "    \n",
    "    # cek duplikat\n",
    "    duplicates = df[df.duplicated(subset=df.columns, keep=False)]\n",
    "    if not duplicates.empty:\n",
    "        print(f\"Terdapat duplikat pada {name_df}\")\n",
    "        print(duplicates)\n",
    "        df = df.drop_duplicates()\n",
    "    else:\n",
    "        print(f\"Tidak ada data duplikat pada {name_df}\")\n",
    "        \n",
    "    # Ubah tipe data\n",
    "    columns_datetime = ['created_at', 'updated_at', 'deleted_at']\n",
    "    for col in columns_datetime:\n",
    "        if df[col].dtype != 'datetime64[ns]':\n",
    "            df[col] = pd.to_datetime(df[col], format='%Y-%m-%d %H:%M:%S.%f', errors='coerce')\n",
    "    \n",
    "\n",
    "    # cek missing value\n",
    "    missing_columns = [col for col in df.columns if col not in ['created_at','updated_at', 'deleted_at']]\n",
    "    df[missing_columns] = df[missing_columns].replace('', None)\n",
    "    if df[missing_columns].isnull().any().any():\n",
    "        print(f\"Terdapat missing value dalam {name_df}\")\n",
    "        missing_sum = df[missing_columns].isnull().sum()\n",
    "        print(missing_sum)\n",
    "        \n",
    "        columns_numeric = ['total_likes', 'amount', 'goal_amount', 'current_progress', 'is_verified', 'registered_volunteer']\n",
    "        for col in missing_columns:\n",
    "            if df[col].dtype != 'object' and df[col].dtype != 'datetime64[ns]' and col not in columns_numeric:\n",
    "                df[col] = df[col].fillna(np.nan)\n",
    "            elif col in columns_numeric :\n",
    "                df[col] = df[col].fillna(0)\n",
    "            elif df[col].dtype == 'datetime64[ns]':\n",
    "                df[col] = df[col].fillna(pd.NaT)\n",
    "            else:\n",
    "                df[col] = df[col].fillna('-')\n",
    "    else :\n",
    "        print(f\"Tidak ada missing value dalam {name_df}\")\n",
    "        missing_sum = df[missing_columns].isnull().sum()\n",
    "        print(missing_sum)\n",
    "    return df"
   ]
  },
  {
   "cell_type": "markdown",
   "metadata": {},
   "source": [
    "##### Check Missing Value & Duplicate"
   ]
  },
  {
   "cell_type": "code",
   "execution_count": null,
   "metadata": {},
   "outputs": [],
   "source": [
    "df_applications = cleaning_data(df_applications, \"Application\")\n",
    "df_articles = cleaning_data(df_articles, \"Article\")\n",
    "df_comments = cleaning_data(df_comments, \"Comment\")\n",
    "df_donations_manual = cleaning_data(df_donations_manual, \"Donation\")\n",
    "df_donation_manual_comments = cleaning_data(df_donation_manual_comments, \"Donation_Comments\")\n",
    "df_fundraising_categories = cleaning_data(df_fundraising_categories, \"Fundraising_Categories\")\n",
    "df_fundraisings = cleaning_data(df_fundraisings, \"Fundraising\")\n",
    "df_users = cleaning_data(df_users, \"Customer\")\n",
    "df_likes_comments = cleaning_data(df_likes_comments, \"Like_Comments\")\n",
    "df_organizations = cleaning_data(df_organizations, \"Organization\")\n",
    "df_testimoni_volunteers = cleaning_data(df_testimoni_volunteers, \"Testimoni_Volunteer\")\n",
    "df_bookmark_fundraising = cleaning_data(df_bookmark_fundraising, \"Bookmark_Fundraising\")\n",
    "df_bookmark_volunteer = cleaning_data(df_bookmark_volunteer, \"Bookmark_Volunteer\")\n",
    "df_volunteer_vacancies = cleaning_data(df_volunteer_vacancies, \"Volunteer_Vacancies\")"
   ]
  },
  {
   "cell_type": "markdown",
   "metadata": {},
   "source": [
    "### Tabel Fakta"
   ]
  },
  {
   "cell_type": "markdown",
   "metadata": {},
   "source": [
    "##### 1. FactDonationTransaction"
   ]
  },
  {
   "cell_type": "code",
   "execution_count": null,
   "metadata": {},
   "outputs": [],
   "source": [
    "# Buat Struktur kolom df_fact_donation_transaction\n",
    "columns = ['id', 'donation_id', 'fundraising_id', 'user_id', 'amount', 'goal_amount', 'fundraising_category_id', 'organization_id', 'donation_created_at']\n",
    "df_fact_donation = pd.DataFrame(columns=columns)"
   ]
  },
  {
   "cell_type": "code",
   "execution_count": null,
   "metadata": {},
   "outputs": [],
   "source": [
    "# mengambil data yang sukses di df_donation \n",
    "df_donation_success = df_donations_manual.loc[df_donations_manual['status'] == 'sukses']\n",
    "df_donation_success = df_donation_success.reset_index(drop=True)"
   ]
  },
  {
   "cell_type": "code",
   "execution_count": null,
   "metadata": {},
   "outputs": [],
   "source": [
    "# mengisi data pada dari kolom df_donation\n",
    "df_fact_donation['id'] = range(1, len(df_donation_success) + 1)\n",
    "df_fact_donation['donation_id'] = df_donation_success['id']\n",
    "df_fact_donation['fundraising_id'] = df_donation_success['fundraising_id']\n",
    "df_fact_donation['user_id'] = df_donation_success['user_id']\n",
    "df_fact_donation['amount'] = df_donation_success['amount']\n",
    "df_fact_donation['donation_created_at'] = df_donation_success['created_at']"
   ]
  },
  {
   "cell_type": "code",
   "execution_count": null,
   "metadata": {},
   "outputs": [],
   "source": [
    "# merge df_fundraising\n",
    "df_merge_fact_fundraising = pd.merge(df_fact_donation, df_fundraisings, left_on='fundraising_id', right_on='id', how='left')\n",
    "df_fact_donation['goal_amount'] = df_merge_fact_fundraising['goal_amount_y']\n",
    "df_fact_donation['fundraising_category_id'] = df_merge_fact_fundraising['fundraising_category_id_y']\n",
    "df_fact_donation['organization_id'] = df_merge_fact_fundraising['organization_id_y']\n",
    "df_fact_donation"
   ]
  },
  {
   "cell_type": "markdown",
   "metadata": {},
   "source": [
    "##### 2. Fact Volunteer Applications"
   ]
  },
  {
   "cell_type": "code",
   "execution_count": null,
   "metadata": {},
   "outputs": [],
   "source": [
    "# Buat Struktur kolom df_fact_volunteer_applications\n",
    "columns = ['id', 'application_id', 'vacancy_id', 'user_id', 'organization_id', 'application_created_at']\n",
    "df_fact_applications = pd.DataFrame(columns=columns)"
   ]
  },
  {
   "cell_type": "code",
   "execution_count": null,
   "metadata": {},
   "outputs": [],
   "source": [
    "# mengisi data pada dari kolom df_application\n",
    "df_fact_applications['id'] = range(1, len(df_applications) + 1)\n",
    "df_fact_applications['application_id'] = df_applications['id']\n",
    "df_fact_applications['vacancy_id'] = df_applications['vacancy_id']\n",
    "df_fact_applications['user_id'] = df_applications['user_id']\n",
    "df_fact_applications['application_created_at'] = df_applications['created_at']"
   ]
  },
  {
   "cell_type": "code",
   "execution_count": null,
   "metadata": {},
   "outputs": [],
   "source": [
    "# merge df_fundraising\n",
    "df_merge_fact_volunteer = pd.merge(df_fact_applications, df_volunteer_vacancies, left_on='vacancy_id', right_on='id', how='left')\n",
    "df_fact_applications['organization_id'] = df_merge_fact_volunteer['organization_id_y']\n",
    "df_fact_applications"
   ]
  },
  {
   "cell_type": "markdown",
   "metadata": {},
   "source": [
    "##### 3. Fact Volunteer Testimoni"
   ]
  },
  {
   "cell_type": "code",
   "execution_count": null,
   "metadata": {},
   "outputs": [],
   "source": [
    "# Buat Struktur kolom df_fact_volunteer_testimoni\n",
    "columns = ['id', 'user_id', 'vacancy_id', 'testimoni_volunteer_id', 'rating', 'testimoni_created_at']\n",
    "df_fact_volunteer_testimoni = pd.DataFrame(columns=columns)"
   ]
  },
  {
   "cell_type": "code",
   "execution_count": null,
   "metadata": {},
   "outputs": [],
   "source": [
    "# mengisi data pada dari kolom df_application\n",
    "df_fact_volunteer_testimoni['id'] = range(1, len(df_testimoni_volunteers) + 1)\n",
    "df_fact_volunteer_testimoni['user_id'] = df_testimoni_volunteers['user_id']\n",
    "df_fact_volunteer_testimoni['vacancy_id'] = df_testimoni_volunteers['vacancy_id']\n",
    "df_fact_volunteer_testimoni['testimoni_volunteer_id'] = df_testimoni_volunteers['id']\n",
    "df_fact_volunteer_testimoni['rating'] = df_testimoni_volunteers['rating']\n",
    "df_fact_volunteer_testimoni['testimoni_created_at'] = df_testimoni_volunteers['created_at']\n",
    "df_fact_volunteer_testimoni"
   ]
  },
  {
   "cell_type": "markdown",
   "metadata": {},
   "source": [
    "##### 4. Fact Article Popular"
   ]
  },
  {
   "cell_type": "code",
   "execution_count": null,
   "metadata": {},
   "outputs": [],
   "source": [
    "# Buat Struktur kolom df_fact_articel_popular\n",
    "columns = ['id', 'article_id', 'comment_id', 'user_id', 'comment_created_at']\n",
    "df_fact_article_popular = pd.DataFrame(columns=columns)"
   ]
  },
  {
   "cell_type": "code",
   "execution_count": null,
   "metadata": {},
   "outputs": [],
   "source": [
    "# mengisi data pada dari kolom df_comment\n",
    "df_fact_article_popular['id'] = range(1, len(df_comments) + 1)\n",
    "df_fact_article_popular['article_id'] = df_comments['article_id']\n",
    "df_fact_article_popular['comment_id'] = df_comments['id']\n",
    "df_fact_article_popular['user_id'] = df_comments['user_id']\n",
    "df_fact_article_popular['comment_created_at'] = df_comments['created_at']\n",
    "df_fact_article_popular"
   ]
  },
  {
   "cell_type": "markdown",
   "metadata": {},
   "source": [
    "##### 5. Fact Bookmark Fundraising"
   ]
  },
  {
   "cell_type": "code",
   "execution_count": null,
   "metadata": {},
   "outputs": [],
   "source": [
    "df_fact_bookmark_fundraising = df_bookmark_fundraising.drop(['deleted_at', 'updated_at'], axis=1)\n",
    "df_fact_bookmark_fundraising = df_fact_bookmark_fundraising.rename(columns={'id':'bookmark_id'})\n",
    "df_fact_bookmark_fundraising['id'] = range(1, len(df_fact_bookmark_fundraising) + 1)\n",
    "df_fact_bookmark_fundraising.insert(0, 'id', df_fact_bookmark_fundraising.pop('id'))\n",
    "df_fact_bookmark_fundraising"
   ]
  },
  {
   "cell_type": "markdown",
   "metadata": {},
   "source": [
    "##### 6. Fact Bookmark Volunteer Vacancies"
   ]
  },
  {
   "cell_type": "code",
   "execution_count": null,
   "metadata": {},
   "outputs": [],
   "source": [
    "df_fact_bookmark_volunteer_vacancies = df_bookmark_volunteer.drop(['deleted_at', 'updated_at'], axis=1)\n",
    "df_fact_bookmark_volunteer_vacancies = df_fact_bookmark_volunteer_vacancies.rename(columns={'id':'bookmark_id'})\n",
    "df_fact_bookmark_volunteer_vacancies['id'] = range(1, len(df_fact_bookmark_volunteer_vacancies) + 1)\n",
    "df_fact_bookmark_volunteer_vacancies.insert(0, 'id', df_fact_bookmark_volunteer_vacancies.pop('id'))\n",
    "df_fact_bookmark_volunteer_vacancies"
   ]
  },
  {
   "cell_type": "markdown",
   "metadata": {},
   "source": [
    "### Tabel Dimensi"
   ]
  },
  {
   "cell_type": "code",
   "execution_count": null,
   "metadata": {},
   "outputs": [],
   "source": [
    "dim_fundraisings = df_fundraisings.drop(['fundraising_category_id','organization_id','updated_at'], axis=1)\n",
    "dim_fundraising_categories = df_fundraising_categories[['id','name']]\n",
    "dim_donation_manual = df_donations_manual.drop(['fundraising_id', 'user_id','updated_at'], axis=1)\n",
    "dim_organization = df_organizations.drop(['updated_at'], axis= 1)\n",
    "dim_user = df_users.drop(['updated_at'], axis=1)\n",
    "dim_volunteer_applictaion = df_applications.drop(['user_id','vacancy_id','updated_at'], axis=1)\n",
    "dim_volunteer_vacancies = df_volunteer_vacancies.drop(['organization_id','updated_at'], axis=1)\n",
    "dim_testimoni_volunteer = df_testimoni_volunteers.drop(['user_id','vacancy_id','updated_at'], axis=1)\n",
    "dim_article = df_articles.drop(['updated_at'], axis = 1)\n",
    "dim_comment = df_comments.drop(['user_id','article_id','updated_at'], axis=1)\n",
    "dim_bookmark_fundraising = df_bookmark_fundraising.drop(['fundraising_id','user_id','updated_at'], axis=1)\n",
    "dim_bookmark_volunter_vacancies = df_bookmark_volunteer.drop(['volunteer_vacancies_id','user_id','updated_at'], axis=1)"
   ]
  },
  {
   "cell_type": "markdown",
   "metadata": {},
   "source": [
    "# Load"
   ]
  },
  {
   "cell_type": "markdown",
   "metadata": {},
   "source": [
    "##### 1. Load To CSV"
   ]
  },
  {
   "cell_type": "code",
   "execution_count": null,
   "metadata": {},
   "outputs": [],
   "source": [
    "df_fact_donation.to_csv(\"Data_Loaded/Fact/fact_donation_transaction.csv\", index=False)\n",
    "df_fact_applications.to_csv(\"Data_Loaded/Fact/fact_volunteer_applications.csv\", index=False)\n",
    "df_fact_volunteer_testimoni.to_csv(\"Data_Loaded/Fact/fact_volunteer_testimoni.csv\", index=False)\n",
    "df_fact_article_popular.to_csv(\"Data_Loaded/Fact/fact_article_popular.csv\", index=False)\n",
    "df_fact_bookmark_fundraising.to_csv(\"Data_Loaded/Fact/fact_bookmark_fundraising.csv\", index=False)\n",
    "df_fact_bookmark_volunteer_vacancies.to_csv(\"Data_Loaded/Fact/fact_bookmark_volunteer_vacancies.csv\", index=False)\n",
    "dim_article.to_csv(\"Data_Loaded/Dimensi/dim_article.csv\", index=False)\n",
    "dim_bookmark_fundraising.to_csv(\"Data_Loaded/Dimensi/dim_bookmark_fundraising.csv\", index=False)\n",
    "dim_bookmark_volunter_vacancies.to_csv(\"Data_Loaded/Dimensi/dim_bookmark_volunteer_vacancies.csv\", index=False)\n",
    "dim_comment.to_csv(\"Data_Loaded/Dimensi/dim_comment.csv\", index=False)\n",
    "dim_donation.to_csv(\"Data_Loaded/Dimensi/dim_donation.csv\", index=False)\n",
    "dim_fundraising_categories.to_csv(\"Data_Loaded/Dimensi/dim_fundraising_categories.csv\", index=False)\n",
    "dim_fundraisings.to_csv(\"Data_Loaded/Dimensi/dim_fundraising.csv\", index=False)\n",
    "dim_user.to_csv(\"Data_Loaded/Dimensi/dim_user.csv\", index=False)\n",
    "dim_testimoni_volunteer.to_csv(\"Data_Loaded/Dimensi/dim_testimoni_volunteer.csv\", index=False)\n",
    "dim_volunteer_vacancies.to_csv(\"Data_Loaded/Dimensi/dim_volunteer_vacancies.csv\", index=False)\n",
    "dim_volunteer_applictaion.to_csv(\"Data_Loaded/Dimensi/dim_volunteer_application.csv\", index=False)\n",
    "dim_organization.to_csv(\"Data_Loaded/Dimensi/dim_organization.csv\", index=False)"
   ]
  },
  {
   "cell_type": "markdown",
   "metadata": {},
   "source": [
    "##### 2. Load To DB Local"
   ]
  },
  {
   "cell_type": "code",
   "execution_count": null,
   "metadata": {},
   "outputs": [],
   "source": [
    "def load_db_local(df, table_name):\n",
    "    connection = pymysql.connect(\n",
    "        host='localhost',\n",
    "        user='root',\n",
    "        password='',\n",
    "        port=int(os.getenv('port'))\n",
    "    )\n",
    "\n",
    "    cursor = connection.cursor()\n",
    "\n",
    "    cursor.execute('CREATE DATABASE IF NOT EXISTS peduli_pintar')\n",
    "    cursor.execute('USE peduli_pintar')\n",
    "\n",
    "    engine = create_engine('mysql+pymysql://root:@localhost:3307/peduli_pintar')\n",
    "    df.to_sql(name=table_name, con=engine, if_exists='replace', index=False)\n",
    "    connection.close()"
   ]
  },
  {
   "cell_type": "code",
   "execution_count": null,
   "metadata": {},
   "outputs": [],
   "source": [
    "load_db_local(df_fact_applications, 'fact_applications')\n",
    "load_db_local(df_fact_article_popular, 'fact_article_popular')\n",
    "load_db_local(df_fact_bookmark_fundraising, 'fact_bookmark_fundraising')\n",
    "load_db_local(df_fact_bookmark_volunteer_vacancies, 'fact_bookmark_volunteer_vacancies')\n",
    "load_db_local(df_fact_donation, 'fact_donation')\n",
    "load_db_local(df_fact_volunteer_testimoni, 'fact_volunteer_testimoni')\n",
    "load_db_local(dim_fundraisings, 'dim_fundraisings')\n",
    "load_db_local(dim_fundraising_categories, 'dim_fundraising_categories')\n",
    "load_db_local(dim_donation, 'dim_donation')\n",
    "load_db_local(dim_organization, 'df_organization')\n",
    "load_db_local(dim_user, 'dim_user')\n",
    "load_db_local(dim_volunteer_applictaion, 'dim_volunteer_applictaion')\n",
    "load_db_local(dim_volunteer_vacancies, 'dim_volunteer_vacancies')\n",
    "load_db_local(dim_testimoni_volunteer, 'dim_testimoni_volunteer')\n",
    "load_db_local(dim_article, 'dim_article')\n",
    "load_db_local(dim_comment, 'dim_comment')\n",
    "load_db_local(dim_bookmark_fundraising, 'dim_bookmark_fundraising')\n",
    "load_db_local(dim_bookmark_volunter_vacancies, 'dim_bookmark_volunter_vacancies')"
   ]
  },
  {
   "cell_type": "markdown",
   "metadata": {},
   "source": [
    "##### 3. Load To Cloud Storage (Firebase)"
   ]
  },
  {
   "cell_type": "code",
   "execution_count": null,
   "metadata": {},
   "outputs": [],
   "source": [
    "def initialize_firebase():\n",
    "    if not firebase_admin._apps:\n",
    "        # load_dotenv()\n",
    "        credentials_path = os.getenv('FIREBASE_CREDENTIALS_PATH')\n",
    "        cred = credentials.Certificate(credentials_path)\n",
    "        firebase_admin.initialize_app(cred)\n",
    "        print(\"Firebase has been initialized\")\n",
    "    else:\n",
    "        print(\"Firebase is already initialized\")\n",
    "    bucket_name = os.getenv('BUCKET_NAME')\n",
    "    return storage.bucket(bucket_name)"
   ]
  },
  {
   "cell_type": "code",
   "execution_count": null,
   "metadata": {},
   "outputs": [],
   "source": [
    "def upload_files_to_firebase(files):\n",
    "    bucket = initialize_firebase()\n",
    "    for file in files:\n",
    "        file_name = os.path.basename(file)\n",
    "        file_ref = bucket.blob(file_name)\n",
    "        file_ref.upload_from_filename(file)\n",
    "        print(f\"File {file_name} uploaded successfully!\")"
   ]
  },
  {
   "cell_type": "code",
   "execution_count": null,
   "metadata": {},
   "outputs": [],
   "source": [
    "def upload_files_to_firebase(files):\n",
    "    bucket = initialize_firebase()\n",
    "    for file in files:\n",
    "        current_date = datetime.now().strftime(\"%Y%m%d\")\n",
    "        file_name = os.path.basename(file)\n",
    "        file_name_with_date = f\"{file_name}_{current_date}\"\n",
    "        \n",
    "        file_ref = bucket.blob(file_name_with_date)\n",
    "        file_ref.upload_from_filename(file)\n",
    "        print(f\"File {file_name_with_date} uploaded successfully!\")"
   ]
  },
  {
   "cell_type": "code",
   "execution_count": null,
   "metadata": {},
   "outputs": [],
   "source": [
    "upload_files_to_firebase(raw_data)"
   ]
  },
  {
   "cell_type": "markdown",
   "metadata": {},
   "source": [
    "##### 4. Load To Bigquery"
   ]
  },
  {
   "cell_type": "code",
   "execution_count": null,
   "metadata": {},
   "outputs": [],
   "source": [
    "csv_files_fact_and_dim = [\n",
    "    'fact_article_popular.csv',\n",
    "    'fact_bookmark_fundraising.csv',\n",
    "    'fact_bookmark_volunteer_vacancies.csv',\n",
    "    'fact_donation_transaction.csv',\n",
    "    'fact_volunteer_applications.csv',\n",
    "    'fact_volunteer_testimoni.csv',\n",
    "    'dim_article.csv',\n",
    "    'dim_bookmark_fundraising.csv',\n",
    "    'dim_bookmark_volunteer_vacancies.csv',\n",
    "    'dim_comment.csv',\n",
    "    'dim_donation.csv',\n",
    "    'dim_fundraising_categories.csv',\n",
    "    'dim_fundraising.csv',\n",
    "    'dim_organization.csv',\n",
    "    'dim_testimoni_volunteer.csv',\n",
    "    'dim_user.csv',\n",
    "    'dim_volunteer_application.csv',\n",
    "    'dim_volunteer_vacancies.csv'\n",
    "]"
   ]
  },
  {
   "cell_type": "code",
   "execution_count": null,
   "metadata": {},
   "outputs": [],
   "source": [
    "credentials_path = os.getenv(\"GOOGLE_APPLICATION_CREDENTIALS\")\n",
    "if credentials_path:\n",
    "    os.environ[\"GOOGLE_APPLICATION_CREDENTIALS\"] = credentials_path\n",
    "else:\n",
    "    raise Exception(\"GOOGLE_APPLICATION_CREDENTIALS is not set in the .env file\")\n",
    "\n",
    "client = bigquery.Client()\n",
    "\n",
    "dataset_id = os.getenv(\"dataset_id\")\n",
    "data_folder = \"Data_Loaded/Fact/\""
   ]
  },
  {
   "cell_type": "code",
   "execution_count": null,
   "metadata": {},
   "outputs": [],
   "source": [
    "def load_csv_to_bigquery(file_name):\n",
    "    table_id = f\"{dataset_id}.{file_name.split('.')[0]}\"\n",
    "    file_path = os.path.join(data_folder, file_name)\n",
    "\n",
    "    job_config = bigquery.LoadJobConfig(\n",
    "        source_format=bigquery.SourceFormat.CSV,\n",
    "        skip_leading_rows=1,\n",
    "        autodetect=True,\n",
    "        write_disposition=bigquery.WriteDisposition.WRITE_TRUNCATE\n",
    "    )\n",
    "\n",
    "    with open(file_path, \"rb\") as source_file:\n",
    "        job = client.load_table_from_file(source_file, table_id, job_config=job_config)\n",
    "    \n",
    "    job.result()\n",
    "\n",
    "    table = client.get_table(table_id)\n",
    "    print(\n",
    "        \"Loaded {} rows and {} columns to {}\".format(\n",
    "            table.num_rows, len(table.schema), table_id\n",
    "        )\n",
    "    )"
   ]
  },
  {
   "cell_type": "code",
   "execution_count": null,
   "metadata": {},
   "outputs": [],
   "source": [
    "for csv_file in csv_files_fact_and_dim:\n",
    "    try:\n",
    "        load_csv_to_bigquery(csv_file)\n",
    "    except Exception as e:\n",
    "        print(f\"Failed to load {csv_file}: {e}\")"
   ]
  }
 ],
 "metadata": {
  "kernelspec": {
   "display_name": "Python 3",
   "language": "python",
   "name": "python3"
  },
  "language_info": {
   "codemirror_mode": {
    "name": "ipython",
    "version": 3
   },
   "file_extension": ".py",
   "mimetype": "text/x-python",
   "name": "python",
   "nbconvert_exporter": "python",
   "pygments_lexer": "ipython3",
   "version": "3.11.9"
  }
 },
 "nbformat": 4,
 "nbformat_minor": 2
}
