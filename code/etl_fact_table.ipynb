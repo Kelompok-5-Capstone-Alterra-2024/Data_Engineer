{
 "cells": [
  {
   "cell_type": "code",
   "execution_count": null,
   "metadata": {},
   "outputs": [],
   "source": [
    "import pandas as pd\n",
    "import numpy as np\n",
    "from IPython.display import display"
   ]
  },
  {
   "cell_type": "markdown",
   "metadata": {},
   "source": [
    "# 1. Extract Data"
   ]
  },
  {
   "cell_type": "code",
   "execution_count": null,
   "metadata": {},
   "outputs": [],
   "source": [
    "df_admin = pd.read_csv('D:/Alterra Academy/capstone-project/Data_Engineer/Data_Source(dummy)/admin.csv')\n",
    "df_applications = pd.read_csv('D:/Alterra Academy/capstone-project/Data_Engineer/Data_Source(dummy)/applications.csv')\n",
    "df_article = pd.read_csv('D:/Alterra Academy/capstone-project/Data_Engineer/Data_Source(dummy)/article.csv')\n",
    "df_comment = pd.read_csv('D:/Alterra Academy/capstone-project/Data_Engineer/Data_Source(dummy)/comment.csv')\n",
    "df_customer_bookmark_article = pd.read_csv('D:/Alterra Academy/capstone-project/Data_Engineer/Data_Source(dummy)/customer_bookmark_article.csv')\n",
    "df_customer_bookmark_fundraising = pd.read_csv('D:/Alterra Academy/capstone-project/Data_Engineer/Data_Source(dummy)/customer_bookmark_fundraising.csv')\n",
    "df_customer_bookmark_volunteer = pd.read_csv('D:/Alterra Academy/capstone-project/Data_Engineer/Data_Source(dummy)/customer_bookmark_volunteer.csv')\n",
    "df_customers = pd.read_csv('D:/Alterra Academy/capstone-project/Data_Engineer/Data_Source(dummy)/customers.csv')\n",
    "df_donations = pd.read_csv('D:/Alterra Academy/capstone-project/Data_Engineer/Data_Source(dummy)/donations.csv')\n",
    "df_fundraising_categories = pd.read_csv('D:/Alterra Academy/capstone-project/Data_Engineer/Data_Source(dummy)/fundraising_categories.csv')\n",
    "df_fundraisings = pd.read_csv('D:/Alterra Academy/capstone-project/Data_Engineer/Data_Source(dummy)/fundraisings.csv')\n",
    "df_likes_comment = pd.read_csv('D:/Alterra Academy/capstone-project/Data_Engineer/Data_Source(dummy)/likes_comment.csv')\n",
    "df_likes_fundraising = pd.read_csv('D:/Alterra Academy/capstone-project/Data_Engineer/Data_Source(dummy)/likes_fundraising.csv')\n",
    "df_organization = pd.read_csv('D:/Alterra Academy/capstone-project/Data_Engineer/Data_Source(dummy)/organization.csv')\n",
    "df_testimoni_volunteer = pd.read_csv('D:/Alterra Academy/capstone-project/Data_Engineer/Data_Source(dummy)/testimoni_volunteer.csv')\n",
    "df_volunteer_vacancies = pd.read_csv('D:/Alterra Academy/capstone-project/Data_Engineer/Data_Source(dummy)/volunteer_vacancies.csv')\n",
    "df_wish_fundraising = pd.read_csv('D:/Alterra Academy/capstone-project/Data_Engineer/Data_Source(dummy)/wish_fundraising.csv')"
   ]
  },
  {
   "cell_type": "markdown",
   "metadata": {},
   "source": [
    "# 2. Transform"
   ]
  },
  {
   "cell_type": "markdown",
   "metadata": {},
   "source": [
    "## 1. FactDonationTransaction"
   ]
  },
  {
   "cell_type": "code",
   "execution_count": null,
   "metadata": {},
   "outputs": [],
   "source": [
    "# Buat Struktur kolom df_fact_donation_transaction\n",
    "columns = ['id', 'donation_id', 'fundraising_id', 'customer_id', 'nominal', 'goal_amount', 'fundraising_categories_id', 'organization_id', 'donation_created_at']\n",
    "df_fact_donation_transaction = pd.DataFrame(columns=columns)\n",
    "df_fact_donation_transaction"
   ]
  },
  {
   "cell_type": "code",
   "execution_count": null,
   "metadata": {},
   "outputs": [],
   "source": [
    "# mengambil data yang sukses di df_donation \n",
    "df_donation_success = df_donations.loc[df_donations['status'] == 'success']\n",
    "df_donation_success = df_donation_success.reset_index(drop=True)\n",
    "df_donation_success"
   ]
  },
  {
   "cell_type": "code",
   "execution_count": null,
   "metadata": {},
   "outputs": [],
   "source": [
    "# mengisi data pada dari kolom df_donation\n",
    "df_fact_donation_transaction['id'] = range(1, len(df_donation_success) + 1)\n",
    "df_fact_donation_transaction['donation_id'] = df_donation_success['id']\n",
    "df_fact_donation_transaction['fundraising_id'] = df_donation_success['fundraisings_id']\n",
    "df_fact_donation_transaction['customer_id'] = df_donation_success['customer_id']\n",
    "df_fact_donation_transaction['nominal'] = df_donation_success['nominal']\n",
    "df_fact_donation_transaction['donation_created_at'] = df_donation_success['created_at']\n",
    "df_fact_donation_transaction"
   ]
  },
  {
   "cell_type": "code",
   "execution_count": null,
   "metadata": {},
   "outputs": [],
   "source": [
    "# merge df_fundraising\n",
    "df_merge_fact_fundraising = pd.merge(df_fact_donation_transaction, df_fundraisings, left_on='fundraising_id', right_on='id', how='left')\n",
    "\n",
    "# inisialisasi data di df_fact_donation_transaction\n",
    "df_fact_donation_transaction['goal_amount'] = df_merge_fact_fundraising['goal_amount_y']\n",
    "df_fact_donation_transaction['fundraising_categories_id'] = df_merge_fact_fundraising['fundraising_categories_id_y']\n",
    "df_fact_donation_transaction['organization_id'] = df_merge_fact_fundraising['organization_id_y']\n",
    "df_fact_donation_transaction"
   ]
  },
  {
   "cell_type": "markdown",
   "metadata": {},
   "source": [
    "## 2. Fact Volunteer Applications"
   ]
  },
  {
   "cell_type": "code",
   "execution_count": null,
   "metadata": {},
   "outputs": [],
   "source": [
    "# Buat Struktur kolom df_fact_volunteer_applications\n",
    "columns = ['id', 'application_id', 'volunteer_vacancies_id', 'customer_id', 'organization_id', 'application_created_at']\n",
    "df_fact_volunteer_applications = pd.DataFrame(columns=columns)\n",
    "df_fact_volunteer_applications"
   ]
  },
  {
   "cell_type": "code",
   "execution_count": null,
   "metadata": {},
   "outputs": [],
   "source": [
    "# mengisi data pada dari kolom df_application\n",
    "df_fact_volunteer_applications['id'] = range(1, len(df_applications) + 1)\n",
    "df_fact_volunteer_applications['application_id'] = df_applications['id']\n",
    "df_fact_volunteer_applications['volunteer_vacancies_id'] = df_applications['vacancy_id']\n",
    "df_fact_volunteer_applications['customer_id'] = df_applications['customer_id']\n",
    "df_fact_volunteer_applications['application_created_at'] = df_applications['create_at']\n",
    "df_fact_volunteer_applications"
   ]
  },
  {
   "cell_type": "code",
   "execution_count": null,
   "metadata": {},
   "outputs": [],
   "source": [
    "# merge df_fundraising\n",
    "df_merge_fact_volunteer = pd.merge(df_fact_volunteer_applications, df_volunteer_vacancies, left_on='volunteer_vacancies_id', right_on='id', how='left')\n",
    "\n",
    "# inisialisasi data di df_fact_volunteer_applications\n",
    "df_fact_volunteer_applications['organization_id'] = df_merge_fact_volunteer['organization_id_y']\n",
    "df_fact_volunteer_applications"
   ]
  },
  {
   "cell_type": "markdown",
   "metadata": {},
   "source": [
    "## 3. Fact Volunteer Testimoni"
   ]
  },
  {
   "cell_type": "code",
   "execution_count": null,
   "metadata": {},
   "outputs": [],
   "source": [
    "# Buat Struktur kolom df_fact_volunteer_testimoni\n",
    "columns = ['id', 'customer_id', 'volunteer_vacancies_id', 'testimoni_volunteer_id', 'rating']\n",
    "df_fact_volunteer_testimoni = pd.DataFrame(columns=columns)\n",
    "df_fact_volunteer_testimoni"
   ]
  },
  {
   "cell_type": "code",
   "execution_count": null,
   "metadata": {},
   "outputs": [],
   "source": [
    "# mengisi data pada dari kolom df_application\n",
    "df_fact_volunteer_testimoni['id'] = range(1, len(df_applications) + 1)\n",
    "df_fact_volunteer_testimoni['customer_id'] = df_testimoni_volunteer['customer_id']\n",
    "df_fact_volunteer_testimoni['volunteer_vacancies_id'] = df_testimoni_volunteer['volunteer_id']\n",
    "df_fact_volunteer_testimoni['testimoni_volunteer_id'] = df_testimoni_volunteer['id']\n",
    "df_fact_volunteer_testimoni['rating'] = df_testimoni_volunteer['rating']\n",
    "df_fact_volunteer_applications"
   ]
  },
  {
   "cell_type": "markdown",
   "metadata": {},
   "source": [
    "## 4. Fact Articel Popular"
   ]
  },
  {
   "cell_type": "code",
   "execution_count": null,
   "metadata": {},
   "outputs": [],
   "source": [
    "# Buat Struktur kolom df_fact_articel_popular\n",
    "columns = ['id', 'article_id', 'comment_id', 'customer_id', 'total_like', 'comment_created_at']\n",
    "df_fact_article_popular = pd.DataFrame(columns=columns)\n",
    "df_fact_article_popular"
   ]
  },
  {
   "cell_type": "code",
   "execution_count": null,
   "metadata": {},
   "outputs": [],
   "source": [
    "# mengisi data pada dari kolom df_comment\n",
    "df_fact_article_popular['id'] = range(1, len(df_comment) + 1)\n",
    "df_fact_article_popular['article_id'] = df_comment['article_id']\n",
    "df_fact_article_popular['comment_id'] = df_comment['id']\n",
    "df_fact_article_popular['customer_id'] = df_comment['customer_id']\n",
    "df_fact_article_popular['total_like'] = df_comment['total_like']\n",
    "df_fact_article_popular['comment_created_at'] = df_comment['created_at']\n",
    "df_fact_article_popular"
   ]
  },
  {
   "cell_type": "markdown",
   "metadata": {},
   "source": [
    "# Load"
   ]
  },
  {
   "cell_type": "code",
   "execution_count": null,
   "metadata": {},
   "outputs": [],
   "source": [
    "df_fact_donation_transaction.to_csv(\"D:/Alterra Academy/capstone-project/Data_Engineer/Data_Loaded/fact_donation_transaction.csv\", index=False)\n",
    "df_fact_volunteer_applications.to_csv(\"D:/Alterra Academy/capstone-project/Data_Engineer/Data_Loaded/fact_volunteer_applications.csv\", index=False)\n",
    "df_fact_volunteer_testimoni.to_csv(\"D:/Alterra Academy/capstone-project/Data_Engineer/Data_Loaded/fact_volunteer_testimoni.csv\", index=False)\n",
    "df_fact_article_popular.to_csv(\"D:/Alterra Academy/capstone-project/Data_Engineer/Data_Loaded/fact_article_popular.csv\", index=False)"
   ]
  }
 ],
 "metadata": {
  "kernelspec": {
   "display_name": "Python 3",
   "language": "python",
   "name": "python3"
  },
  "language_info": {
   "codemirror_mode": {
    "name": "ipython",
    "version": 3
   },
   "file_extension": ".py",
   "mimetype": "text/x-python",
   "name": "python",
   "nbconvert_exporter": "python",
   "pygments_lexer": "ipython3",
   "version": "3.12.2"
  }
 },
 "nbformat": 4,
 "nbformat_minor": 2
}
