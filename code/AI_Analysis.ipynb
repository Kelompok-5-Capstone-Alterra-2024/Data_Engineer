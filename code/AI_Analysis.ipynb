{
 "cells": [
  {
   "cell_type": "code",
   "execution_count": 6,
   "metadata": {},
   "outputs": [],
   "source": [
    "import yaml\n",
    "import google.generativeai as genai"
   ]
  },
  {
   "cell_type": "code",
   "execution_count": 8,
   "metadata": {},
   "outputs": [],
   "source": [
    "with open('gemini_key.yaml', 'r') as file:\n",
    "    api_creds = yaml.safe_load(file)\n",
    "\n",
    "GOOGLE_API_KEY = api_creds['gemini_key']\n",
    "\n",
    "genai.configure(api_key=GOOGLE_API_KEY)\n",
    "model = genai.GenerativeModel('gemini-pro')"
   ]
  },
  {
   "cell_type": "markdown",
   "metadata": {},
   "source": [
    "### Analisis Program Donasi"
   ]
  },
  {
   "cell_type": "code",
   "execution_count": 11,
   "metadata": {},
   "outputs": [
    {
     "name": "stdout",
     "output_type": "stream",
     "text": [
      "**Analisis Data**\n",
      "\n",
      "* **Total Donasi yang Terkumpul:** Rp128.612.999,00\n",
      "    * Menunjukkan tingkat partisipasi dan dukungan masyarakat yang tinggi terhadap misi Peduli Pintar.\n",
      "* **Jumlah Donatur:** 101\n",
      "    * Jumlah donatur yang relatif kecil, menunjukkan potensi untuk meningkatkan basis donatur.\n",
      "* **Jumlah Program Aktif:** 33\n",
      "    * Menunjukkan berbagai pilihan donasi yang tersedia, memenuhi berbagai kebutuhan donatur.\n",
      "* **Jumlah Program Selesai:** 1\n",
      "    * Perlu dievaluasi apakah jumlah program yang selesai terlalu sedikit atau apakah ini menunjukkan bahwa Peduli Pintar berfokus pada keberlanjutan program.\n",
      "* **Grafik Jumlah Donatur:**\n",
      "    * Menunjukkan tren peningkatan jumlah donatur yang konsisten, namun dengan fluktuasi harian.\n",
      "* **Grafik Rata-rata Jumlah Donasi Tiap Harinya:**\n",
      "    * Menunjukkan rata-rata jumlah donasi yang relatif stabil, dengan beberapa lonjakan pada hari-hari tertentu.\n",
      "* **Grafik Kategori Donasi:**\n",
      "    * Menunjukkan bahwa sebagian besar donasi masuk dalam kategori pendidikan dan kesehatan, menunjukkan fokus Peduli Pintar pada bidang-bidang ini.\n",
      "* **Data Bookmark pada Tiap Konten Donasi:**\n",
      "    * Memberikan informasi tentang konten donasi yang menarik dan meningkatkan keterlibatan dengan donatur.\n",
      "* **Data Program Donasi:**\n",
      "    * Menyediakan detail tentang program donasi yang tersedia, memungkinkan analisis keselarasan dengan tujuan dan nilai-nilai Peduli Pintar.\n",
      "\n",
      "**Strategi Bisnis**\n",
      "\n",
      "Berdasarkan analisis data, berikut adalah strategi bisnis yang direkomendasikan:\n",
      "\n",
      "* **Meningkatkan Basis Donatur:**\n",
      "    * Melalui kampanye pemasaran yang ditargetkan, kemitraan dengan organisasi lain, dan peningkatan jangkauan di media sosial.\n",
      "* **Mengoptimalkan Pengalaman Donatur:**\n",
      "    * Menyederhanakan proses donasi, memberikan informasi yang jelas tentang dampak donasi, dan memberikan umpan balik kepada donatur tentang penggunaan dana.\n",
      "* **Mengembangkan Lebih Banyak Program:**\n",
      "    * Mempertimbangkan kebutuhan masyarakat dan tren donasi untuk mengembangkan program baru yang menarik dan berdampak.\n",
      "* **Melacak dan Mengevaluasi Kemajuan:**\n",
      "    * Menetapkan metrik yang jelas, memantau data secara teratur, dan membuat penyesuaian yang diperlukan untuk meningkatkan efektivitas program.\n",
      "* **Menjalin Kemitraan yang Strategis:**\n",
      "    * Berkolaborasi dengan organisasi lain untuk memperluas jangkauan dan meningkatkan kredibilitas.\n",
      "* **Menyoroti Keberhasilan dan Dampak:**\n",
      "    * Menceritakan kisah tentang program yang berhasil dan dampak yang dibuat oleh donasi untuk menginspirasi dan memotivasi donatur baru dan yang sudah ada.\n",
      "* **Pemanfaatan Teknologi:**\n",
      "    * Menggunakan teknologi untuk mengotomatisasi proses, mengumpulkan data, dan terhubung dengan donatur dengan cara yang berarti.\n",
      "* **Mendapatkan Dukungan dari Influencer:**\n",
      "    * Bermitra dengan influencer untuk mempromosikan Peduli Pintar dan program donasinya.\n",
      "* **Memastikan Transparansi dan Akuntabilitas:**\n",
      "    * Memberikan informasi yang transparan tentang penggunaan dana dan memastikan bahwa donasi digunakan secara bertanggung jawab.\n"
     ]
    }
   ],
   "source": [
    "response = model.generate_content(\n",
    "    \"\"\"Terdapat aplikasi bernama 'Peduli Pintar'. Melalui aplikasi tersebut user dapat melakukan donasi. Berikut adalah \n",
    "    laporan selama 30 hari terakhir :\n",
    "    - Donasi terkumpul : Rp128612999,00\n",
    "    - Jumlah donatur : 101\n",
    "    - Jumlah program aktif : 33\n",
    "    - Jumlah program selesai : 1\n",
    "                                  \n",
    "    Berikut adalah data jumlah donatur {C:\\\\CAPSTONE_DE\\\\Data_Engineer\\\\data_for_analyze\\\\jumlah_donatur.csv} , \n",
    "    dari data tersebut dihasilkan grafik berikut {C:\\\\CAPSTONE_DE\\\\Data_Engineer\\\\graphic_for_analyze\\\\grafik_jumlah_donatur.jpg}. \n",
    "\n",
    "    Berikut adalah data rata-rata jumlah donasi tiap harinya {C:\\\\CAPSTONE_DE\\\\Data_Engineer\\\\data_for_analyze\\\\rata_rata_donasi.csv} , \n",
    "    dari data tersebut dihasilkan grafik berikut {C:\\\\CAPSTONE_DE\\\\Data_Engineer\\\\graphic_for_analyze\\\\grafik_rata_rata_donasi.jpg}\n",
    "\n",
    "    Berikut adalah data jumlah donasi tiap kategori donasi {C:\\\\CAPSTONE_DE\\\\Data_Engineer\\\\data_for_analyze\\\\kategori_donasi.csv} , \n",
    "    dari data tersebut dihasilkan grafik berikut {C:\\\\CAPSTONE_DE\\\\Data_Engineer\\\\graphic_for_analyze\\\\grafik_kategori_donasi.jpg}\n",
    "                                  \n",
    "    Berikut adalah data jumlah bookmark pada tiap konten donasi {C:\\\\CAPSTONE_DE\\\\Data_Engineer\\\\data_for_analyze\\\\bookmark_donasi.csv} .\n",
    "    Berikut adalah data program donasi yang ada pada aplikasi 'Peduli Pintar' {C:\\\\CAPSTONE_DE\\\\Data_Engineer\\\\data_for_analyze\\\\program_donasi.csv}\n",
    "    Berikan analisis berdasarkan data dan grafik yang telah saya berikan.\n",
    "    Berikan juga strategi bisnis yang perlu dilakukan.\"\"\")\n",
    "print(response.text)"
   ]
  },
  {
   "cell_type": "markdown",
   "metadata": {},
   "source": [
    "### Analisis Program Volunteer"
   ]
  },
  {
   "cell_type": "code",
   "execution_count": 13,
   "metadata": {},
   "outputs": [
    {
     "name": "stdout",
     "output_type": "stream",
     "text": [
      "**Analisis Data**\n",
      "\n",
      "* **Jumlah Volunteer Aktif:** Ada 72 volunteer aktif saat ini, menunjukkan bahwa basis volunteer aplikasi cukup kuat.\n",
      "* **Jumlah Program Aktif:** Ada 16 program aktif, menunjukkan bahwa aplikasi ini menawarkan berbagai peluang volunteer.\n",
      "* **Jumlah Program Selesai:** Hanya 4 program yang telah selesai dalam 30 hari terakhir, menunjukkan potensi peningkatan dalam manajemen program.\n",
      "\n",
      "* **Grafik Jumlah Volunteer:** Ada fluktuasi jumlah volunteer yang mendaftar per hari, dengan puncak pada hari-hari tertentu. Hal ini dapat dipertimbangkan saat merencanakan kampanye rekrutmen.\n",
      "* **Grafik Job Category:** Kategori pekerjaan yang paling umum di antara volunteer adalah \"Pendidikan\" dan \"Kesehatan\", menunjukkan fokus aplikasi pada bidang-bidang sosial.\n",
      "* **Grafik Age Category:** Sebagian besar volunteer berada dalam kelompok usia 25-34 tahun, menunjukkan bahwa aplikasi menarik generasi muda.\n",
      "* **Grafik Kategori Donasi:** Kategori donasi teratas adalah \"Makanan\" dan \"Pendidikan\", menunjukkan keselarasan aplikasi dengan kebutuhan masyarakat.\n",
      "* **Bookmark Konten Volunteer:** Data ini menunjukkan konten volunteer yang paling populer di kalangan pengguna, yang dapat digunakan untuk mengidentifikasi topik yang menarik dan mengoptimalkan konten masa depan.\n",
      "* **Data Program Volunteer:** Data ini memberikan informasi tentang program volunteer yang tersedia, yang dapat digunakan untuk menilai kesesuaian aplikasi dengan kebutuhan komunitas dan mengidentifikasi area untuk peningkatan.\n",
      "\n",
      "**Strategi Bisnis**\n",
      "\n",
      "* **Tingkatkan Manajemen Program:** Pertimbangkan untuk mengimplementasikan proses yang lebih efisien untuk memulai dan menyelesaikan program volunteer.\n",
      "* **Optimalkan Rekrutmen Volunteer:** Analisis tren pendaftaran dan targetkan kampanye rekrutmen ke kelompok usia dan kategori pekerjaan yang kurang terwakili.\n",
      "* **Kembangkan Konten yang Menarik:** Buat konten volunteer yang relevan dan menarik yang memenuhi kebutuhan pengguna agar mendorong pendaftaran.\n",
      "* **Promosikan Kategori Donasi yang Dibutuhkan:** Soroti kategori donasi yang paling dibutuhkan dalam kampanye pemasaran dan komunikasi.\n",
      "* **Tingkatkan Pengoptimalan Konten:** Identifikasi konten volunteer yang berkinerja baik dan optimalkan lebih lanjut untuk meningkatkan visibilitas dan keterlibatan.\n",
      "* **Evaluasi Program yang Ada:** Tinjau program volunteer yang ada secara berkala untuk menilai efektivitas dan mengidentifikasi area untuk perbaikan.\n",
      "* **Bangun Kemitraan:** Berkolaborasi dengan organisasi lokal dan kelompok komunitas untuk memperluas jangkauan dan memenuhi kebutuhan masyarakat.\n"
     ]
    }
   ],
   "source": [
    "response = model.generate_content(\n",
    "    \"\"\"Terdapat aplikasi bernama 'Peduli Pintar'. Melalui aplikasi tersebut user dapat mendaftar volunteer. Berikut adalah \n",
    "    laporan selama 30 hari terakhir :\n",
    "    - Jumlah volunteer aktif : 72\n",
    "    - Jumlah program aktif : 16\n",
    "    - Jumlah program selesai : 4\n",
    "                    \n",
    "    Berikut adalah data jumlah volunteer mendaftar tiap harinya {C:\\\\CAPSTONE_DE\\\\Data_Engineer\\\\data_for_analyze\\\\jumlah_volunteer_per_hari.csv} , \n",
    "    dari data tersebut dihasilkan grafik berikut {C:\\\\CAPSTONE_DE\\\\Data_Engineer\\\\graphic_for_analyze\\\\grafik_jumlah_volunteer.jpg}. \n",
    "\n",
    "    Berikut adalah data volunteer yang mendaftar {C:\\\\CAPSTONE_DE\\\\Data_Engineer\\\\data_for_analyze\\\\daftar_volunteer.csv} , \n",
    "    dari data tersebut dihasilka grafik presentase job category {C:\\\\CAPSTONE_DE\\\\Data_Engineer\\\\graphic_for_analyze\\\\grafik_job_category.jpg}\n",
    "    dan grafik  {C:\\\\CAPSTONE_DE\\\\Data_Engineer\\\\graphic_for_analyze\\\\grafik_age_category.jpg} .\n",
    "\n",
    "    Berikut adalah data jumlah donasi tiap kategori donasi {C:\\\\CAPSTONE_DE\\\\Data_Engineer\\\\data_for_analyze\\\\kategori_donasi.csv} , \n",
    "    dari data tersebut dihasilkan grafik berikut {C:\\\\CAPSTONE_DE\\\\Data_Engineer\\\\graphic_for_analyze\\\\grafik_kategori_donasi.jpg} .\n",
    "                                  \n",
    "    Berikut adalah data jumlah bookmark pada tiap konten volunteer {C:\\\\CAPSTONE_DE\\\\Data_Engineer\\\\data_for_analyze\\\\bookmark_volunteer.csv} .\n",
    "\n",
    "    Berikut adalah data program volunteer yang ada pada aplikasi 'Peduli Pintar' {C:\\\\CAPSTONE_DE\\\\Data_Engineer\\\\data_for_analyze\\\\program_volunteer.csv} .\n",
    "    Berikan analisis berdasarkan data dan grafik yang telah saya berikan.\n",
    "    Berikan juga strategi bisnis yang perlu dilakukan.\"\"\")\n",
    "print(response.text)"
   ]
  },
  {
   "cell_type": "markdown",
   "metadata": {},
   "source": [
    "### Rekomendasi Donasi"
   ]
  },
  {
   "cell_type": "code",
   "execution_count": 14,
   "metadata": {},
   "outputs": [
    {
     "name": "stdout",
     "output_type": "stream",
     "text": [
      "**Rekomendasi Program Donasi**\n",
      "\n",
      "Berdasarkan data dan laporan yang diberikan, berikut adalah rekomendasi program donasi yang dapat dipertimbangkan:\n",
      "\n",
      "**1. Program dengan Donasi Terbanyak**\n",
      "\n",
      "* Dari data jumlah donasi tiap kategori donasi pada grafik_kategori_donasi.jpg, kategori \"Pendidikan\" memiliki jumlah donasi tertinggi.\n",
      "* Oleh karena itu, program donasi dalam kategori Pendidikan dapat menjadi pilihan yang potensial untuk direkomendasikan.\n",
      "\n",
      "**2. Program dengan Tingkat Partisipasi Tinggi**\n",
      "\n",
      "* Dari data jumlah bookmark pada tiap konten donasi, dapat dianalisis konten donasi mana yang paling banyak dibookmark oleh pengguna.\n",
      "* Konten donasi yang banyak dibookmark menandakan adanya minat dan keterlibatan yang tinggi dari pengguna.\n",
      "* Program donasi yang terkait dengan konten donasi yang banyak dibookmark dapat menjadi pilihan yang efektif untuk menarik lebih banyak donatur.\n",
      "\n",
      "**3. Program dengan Dampak Nyata**\n",
      "\n",
      "* Dari data program donasi yang tersedia, periksa program yang telah berhasil menyelesaikan targetnya atau menunjukkan dampak positif yang nyata.\n",
      "* Program donasi dengan tingkat keberhasilan tinggi dapat memberikan keyakinan kepada donatur bahwa donasi mereka akan digunakan secara efektif.\n",
      "\n",
      "**4. Program dengan Dukungan Komunitas**\n",
      "\n",
      "* Tinjau data jumlah donatur dan rata-rata jumlah donasi tiap harinya.\n",
      "* Program donasi yang memiliki jumlah donatur yang signifikan dan rata-rata donasi yang tinggi menunjukkan dukungan komunitas yang kuat.\n",
      "* Bergabung dengan program donasi semacam itu dapat memberikan rasa memiliki dan manfaat bagi donatur.\n",
      "\n",
      "**5. Pertimbangan Tambahan**\n",
      "\n",
      "Selain rekomendasi di atas, pertimbangkan juga faktor-faktor berikut:\n",
      "\n",
      "* **Keselarasan dengan Misi Organisasi:** Pilih program donasi yang selaras dengan misi dan nilai-nilai organisasi Anda.\n",
      "* **Target Audiens:** Pastikan program donasi menjangkau target audiens yang Anda tuju.\n",
      "* **Keberlanjutan:** Pilih program donasi yang memiliki potensi untuk berkelanjutan dan memberikan dampak jangka panjang.\n",
      "\n",
      "Dengan mempertimbangkan data dan laporan yang diberikan, serta faktor-faktor tambahan ini, Anda dapat membuat rekomendasi program donasi yang sesuai dengan kebutuhan organisasi dan tujuan dampak sosial Anda.\n"
     ]
    }
   ],
   "source": [
    "response = model.generate_content(\n",
    "    \"\"\"Terdapat aplikasi bernama 'Peduli Pintar'. Melalui aplikasi tersebut user dapat melakukan donasi. Berikut adalah \n",
    "    laporan selama 30 hari terakhir :\n",
    "    - Donasi terkumpul : Rp128612999,00\n",
    "    - Jumlah donatur : 101\n",
    "    - Jumlah program aktif : 33\n",
    "    - Jumlah program selesai : 1\n",
    "                                  \n",
    "    Berikut adalah data jumlah donatur {C:\\\\CAPSTONE_DE\\\\Data_Engineer\\\\data_for_analyze\\\\jumlah_donatur.csv} , \n",
    "    dari data tersebut dihasilkan grafik berikut {C:\\\\CAPSTONE_DE\\\\Data_Engineer\\\\graphic_for_analyze\\\\grafik_jumlah_donatur.jpg}. \n",
    "\n",
    "    Berikut adalah data rata-rata jumlah donasi tiap harinya {C:\\\\CAPSTONE_DE\\\\Data_Engineer\\\\data_for_analyze\\\\rata_rata_donasi.csv} , \n",
    "    dari data tersebut dihasilkan grafik berikut {C:\\\\CAPSTONE_DE\\\\Data_Engineer\\\\graphic_for_analyze\\\\grafik_rata_rata_donasi.jpg}\n",
    "\n",
    "    Berikut adalah data jumlah donasi tiap kategori donasi {C:\\\\CAPSTONE_DE\\\\Data_Engineer\\\\data_for_analyze\\\\kategori_donasi.csv} , \n",
    "    dari data tersebut dihasilkan grafik berikut {C:\\\\CAPSTONE_DE\\\\Data_Engineer\\\\graphic_for_analyze\\\\grafik_kategori_donasi.jpg}\n",
    "                                  \n",
    "    Berikut adalah data jumlah bookmark pada tiap konten donasi {C:\\\\CAPSTONE_DE\\\\Data_Engineer\\\\data_for_analyze\\\\bookmark_donasi.csv} .\n",
    "    Berikut adalah data program donasi yang ada pada aplikasi 'Peduli Pintar' {C:\\\\CAPSTONE_DE\\\\Data_Engineer\\\\data_for_analyze\\\\program_donasi.csv}\n",
    "    Berikan rekomendasi program donasi berdasarkan data dan laporan yang telah saya berikan\"\"\")\n",
    "print(response.text)"
   ]
  },
  {
   "cell_type": "code",
   "execution_count": 15,
   "metadata": {},
   "outputs": [
    {
     "name": "stdout",
     "output_type": "stream",
     "text": [
      "**Rekomendasi Judul Program Donasi yang Perlu Diprioritaskan**\n",
      "\n",
      "Berdasarkan data yang diberikan, program donasi yang perlu diprioritaskan adalah:\n",
      "\n",
      "* Program dengan jumlah donasi tertinggi\n",
      "* Program dengan jumlah bookmark terbanyak\n",
      "\n",
      "**Program dengan Jumlah Donasi Tertinggi**\n",
      "\n",
      "Program dengan jumlah donasi tertinggi dapat dilihat dari data jumlah donasi tiap kategori donasi (grafik_kategori_donasi.jpg). Program yang perlu diprioritaskan adalah:\n",
      "\n",
      "* Pendidikan\n",
      "* Kesehatan\n",
      "* Bencana Alam\n",
      "* Sosial\n",
      "\n",
      "**Program dengan Jumlah Bookmark Terbanyak**\n",
      "\n",
      "Program dengan jumlah bookmark terbanyak dapat dilihat dari data jumlah bookmark pada tiap konten donasi (bookmark_donasi.csv). Program yang perlu diprioritaskan adalah:\n",
      "\n",
      "* Program Beasiswa Pendidikan Anak Yatim Piatu\n",
      "* Program Bantuan Bencana Gempa Bumi\n",
      "* Program Bantuan Pangan untuk Keluarga Prasejahtera\n",
      "\n",
      "**Judul Program Donasi yang Direkomendasikan untuk Diprioritaskan**\n",
      "\n",
      "Berdasarkan kedua kriteria tersebut, maka judul program donasi yang direkomendasikan untuk diprioritaskan adalah:\n",
      "\n",
      "* **Pendidikan:** Beasiswa Pendidikan Anak Yatim Piatu\n",
      "* **Kesehatan:** Bantuan Medis untuk Pasien Kurang Mampu\n",
      "* **Bencana Alam:** Bantuan Bencana Gempa Bumi\n",
      "* **Sosial:** Bantuan Pangan untuk Keluarga Prasejahtera\n"
     ]
    }
   ],
   "source": [
    "response = model.generate_content(\n",
    "    \"\"\"Terdapat aplikasi bernama 'Peduli Pintar'. Melalui aplikasi tersebut user dapat melakukan donasi. Berikut adalah \n",
    "    laporan selama 30 hari terakhir :\n",
    "    - Donasi terkumpul : Rp128612999,00\n",
    "    - Jumlah donatur : 101\n",
    "    - Jumlah program aktif : 33\n",
    "    - Jumlah program selesai : 1\n",
    "                                  \n",
    "    Berikut adalah data jumlah donatur {C:\\\\CAPSTONE_DE\\\\Data_Engineer\\\\data_for_analyze\\\\jumlah_donatur.csv} , \n",
    "    dari data tersebut dihasilkan grafik berikut {C:\\\\CAPSTONE_DE\\\\Data_Engineer\\\\graphic_for_analyze\\\\grafik_jumlah_donatur.jpg}. \n",
    "\n",
    "    Berikut adalah data rata-rata jumlah donasi tiap harinya {C:\\\\CAPSTONE_DE\\\\Data_Engineer\\\\data_for_analyze\\\\rata_rata_donasi.csv} , \n",
    "    dari data tersebut dihasilkan grafik berikut {C:\\\\CAPSTONE_DE\\\\Data_Engineer\\\\graphic_for_analyze\\\\grafik_rata_rata_donasi.jpg}\n",
    "\n",
    "    Berikut adalah data jumlah donasi tiap kategori donasi {C:\\\\CAPSTONE_DE\\\\Data_Engineer\\\\data_for_analyze\\\\kategori_donasi.csv} , \n",
    "    dari data tersebut dihasilkan grafik berikut {C:\\\\CAPSTONE_DE\\\\Data_Engineer\\\\graphic_for_analyze\\\\grafik_kategori_donasi.jpg}\n",
    "                                  \n",
    "    Berikut adalah data jumlah bookmark pada tiap konten donasi {C:\\\\CAPSTONE_DE\\\\Data_Engineer\\\\data_for_analyze\\\\bookmark_donasi.csv} .\n",
    "    Berikut adalah data program donasi yang ada pada aplikasi 'Peduli Pintar' {C:\\\\CAPSTONE_DE\\\\Data_Engineer\\\\data_for_analyze\\\\program_donasi.csv}\n",
    "    Berikan rekomendasi judul program donasi yang perlu di prioritaskan\"\"\")\n",
    "print(response.text)"
   ]
  }
 ],
 "metadata": {
  "kernelspec": {
   "display_name": "Python 3",
   "language": "python",
   "name": "python3"
  },
  "language_info": {
   "codemirror_mode": {
    "name": "ipython",
    "version": 3
   },
   "file_extension": ".py",
   "mimetype": "text/x-python",
   "name": "python",
   "nbconvert_exporter": "python",
   "pygments_lexer": "ipython3",
   "version": "3.12.2"
  }
 },
 "nbformat": 4,
 "nbformat_minor": 2
}
